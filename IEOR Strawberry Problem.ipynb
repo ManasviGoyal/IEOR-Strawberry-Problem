{
 "cells": [
  {
   "attachments": {},
   "cell_type": "markdown",
   "metadata": {},
   "source": [
    "# <img src=\"https://img.icons8.com/emoji/96/000000/strawberry-emoji.png\"/> <div style=\"text-align: center\"> Strawberry Problem</div> "
   ]
  },
  {
   "cell_type": "code",
   "execution_count": 2,
   "metadata": {},
   "outputs": [],
   "source": [
    "import pandas as pd \n",
    "import numpy as np \n",
    "import matplotlib.pyplot as plt\n",
    "import click"
   ]
  },
  {
   "cell_type": "code",
   "execution_count": 2,
   "metadata": {},
   "outputs": [
    {
     "name": "stdout",
     "output_type": "stream",
     "text": [
      "Enter cost price: 60\n",
      "Enter selling price: 90\n",
      "Enter salvage price: 30\n"
     ]
    }
   ],
   "source": [
    "costprice=float(input(\"Enter cost price: \"))\n",
    "sellprice=float(input(\"Enter selling price: \"))\n",
    "salvageprice=float(input(\"Enter salvage price: \"))"
   ]
  },
  {
   "cell_type": "code",
   "execution_count": 3,
   "metadata": {},
   "outputs": [
    {
     "data": {
      "text/html": [
       "<div>\n",
       "<style scoped>\n",
       "    .dataframe tbody tr th:only-of-type {\n",
       "        vertical-align: middle;\n",
       "    }\n",
       "\n",
       "    .dataframe tbody tr th {\n",
       "        vertical-align: top;\n",
       "    }\n",
       "\n",
       "    .dataframe thead th {\n",
       "        text-align: right;\n",
       "    }\n",
       "</style>\n",
       "<table border=\"1\" class=\"dataframe\">\n",
       "  <thead>\n",
       "    <tr style=\"text-align: right;\">\n",
       "      <th></th>\n",
       "      <th>Demand</th>\n",
       "      <th>No. of Days</th>\n",
       "    </tr>\n",
       "  </thead>\n",
       "  <tbody>\n",
       "    <tr>\n",
       "      <th>0</th>\n",
       "      <td>12</td>\n",
       "      <td>12</td>\n",
       "    </tr>\n",
       "    <tr>\n",
       "      <th>1</th>\n",
       "      <td>13</td>\n",
       "      <td>24</td>\n",
       "    </tr>\n",
       "    <tr>\n",
       "      <th>2</th>\n",
       "      <td>14</td>\n",
       "      <td>36</td>\n",
       "    </tr>\n",
       "    <tr>\n",
       "      <th>3</th>\n",
       "      <td>15</td>\n",
       "      <td>48</td>\n",
       "    </tr>\n",
       "  </tbody>\n",
       "</table>\n",
       "</div>"
      ],
      "text/plain": [
       "   Demand  No. of Days\n",
       "0      12           12\n",
       "1      13           24\n",
       "2      14           36\n",
       "3      15           48"
      ]
     },
     "execution_count": 3,
     "metadata": {},
     "output_type": "execute_result"
    }
   ],
   "source": [
    "order_quantity = [x for x in range(12,16)]\n",
    "table=pd.read_excel(r'IEOR Strawberry Table.xlsx', sheet_name='Sheet1')\n",
    "table"
   ]
  },
  {
   "cell_type": "code",
   "execution_count": 4,
   "metadata": {},
   "outputs": [
    {
     "data": {
      "text/html": [
       "<div>\n",
       "<style scoped>\n",
       "    .dataframe tbody tr th:only-of-type {\n",
       "        vertical-align: middle;\n",
       "    }\n",
       "\n",
       "    .dataframe tbody tr th {\n",
       "        vertical-align: top;\n",
       "    }\n",
       "\n",
       "    .dataframe thead th {\n",
       "        text-align: right;\n",
       "    }\n",
       "</style>\n",
       "<table border=\"1\" class=\"dataframe\">\n",
       "  <thead>\n",
       "    <tr style=\"text-align: right;\">\n",
       "      <th></th>\n",
       "      <th>Demand</th>\n",
       "      <th>No. of Days</th>\n",
       "      <th>Probability</th>\n",
       "    </tr>\n",
       "  </thead>\n",
       "  <tbody>\n",
       "    <tr>\n",
       "      <th>0</th>\n",
       "      <td>12</td>\n",
       "      <td>12</td>\n",
       "      <td>0.1</td>\n",
       "    </tr>\n",
       "    <tr>\n",
       "      <th>1</th>\n",
       "      <td>13</td>\n",
       "      <td>24</td>\n",
       "      <td>0.2</td>\n",
       "    </tr>\n",
       "    <tr>\n",
       "      <th>2</th>\n",
       "      <td>14</td>\n",
       "      <td>36</td>\n",
       "      <td>0.3</td>\n",
       "    </tr>\n",
       "    <tr>\n",
       "      <th>3</th>\n",
       "      <td>15</td>\n",
       "      <td>48</td>\n",
       "      <td>0.4</td>\n",
       "    </tr>\n",
       "  </tbody>\n",
       "</table>\n",
       "</div>"
      ],
      "text/plain": [
       "   Demand  No. of Days Probability\n",
       "0      12           12         0.1\n",
       "1      13           24         0.2\n",
       "2      14           36         0.3\n",
       "3      15           48         0.4"
      ]
     },
     "execution_count": 4,
     "metadata": {},
     "output_type": "execute_result"
    }
   ],
   "source": [
    "table[\"Probability\"]=None\n",
    "for  x in range (0,len(table)) :\n",
    "    table.loc[x,\"Probability\"]=table.iloc[x,1]/table.iloc[:,1].sum()\n",
    "table"
   ]
  },
  {
   "cell_type": "code",
   "execution_count": 5,
   "metadata": {},
   "outputs": [
    {
     "data": {
      "text/html": [
       "<div>\n",
       "<style scoped>\n",
       "    .dataframe tbody tr th:only-of-type {\n",
       "        vertical-align: middle;\n",
       "    }\n",
       "\n",
       "    .dataframe tbody tr th {\n",
       "        vertical-align: top;\n",
       "    }\n",
       "\n",
       "    .dataframe thead th {\n",
       "        text-align: right;\n",
       "    }\n",
       "</style>\n",
       "<table border=\"1\" class=\"dataframe\">\n",
       "  <thead>\n",
       "    <tr style=\"text-align: right;\">\n",
       "      <th></th>\n",
       "      <th>Demand</th>\n",
       "      <th>No. of Days</th>\n",
       "      <th>Probability</th>\n",
       "      <th>12</th>\n",
       "      <th>13</th>\n",
       "      <th>14</th>\n",
       "      <th>15</th>\n",
       "    </tr>\n",
       "  </thead>\n",
       "  <tbody>\n",
       "    <tr>\n",
       "      <th>0</th>\n",
       "      <td>12</td>\n",
       "      <td>12</td>\n",
       "      <td>0.1</td>\n",
       "      <td>360</td>\n",
       "      <td>330</td>\n",
       "      <td>300</td>\n",
       "      <td>270</td>\n",
       "    </tr>\n",
       "    <tr>\n",
       "      <th>1</th>\n",
       "      <td>13</td>\n",
       "      <td>24</td>\n",
       "      <td>0.2</td>\n",
       "      <td>360</td>\n",
       "      <td>390</td>\n",
       "      <td>360</td>\n",
       "      <td>330</td>\n",
       "    </tr>\n",
       "    <tr>\n",
       "      <th>2</th>\n",
       "      <td>14</td>\n",
       "      <td>36</td>\n",
       "      <td>0.3</td>\n",
       "      <td>360</td>\n",
       "      <td>390</td>\n",
       "      <td>420</td>\n",
       "      <td>390</td>\n",
       "    </tr>\n",
       "    <tr>\n",
       "      <th>3</th>\n",
       "      <td>15</td>\n",
       "      <td>48</td>\n",
       "      <td>0.4</td>\n",
       "      <td>360</td>\n",
       "      <td>390</td>\n",
       "      <td>420</td>\n",
       "      <td>450</td>\n",
       "    </tr>\n",
       "  </tbody>\n",
       "</table>\n",
       "</div>"
      ],
      "text/plain": [
       "   Demand  No. of Days Probability   12   13   14   15\n",
       "0      12           12         0.1  360  330  300  270\n",
       "1      13           24         0.2  360  390  360  330\n",
       "2      14           36         0.3  360  390  420  390\n",
       "3      15           48         0.4  360  390  420  450"
      ]
     },
     "execution_count": 5,
     "metadata": {},
     "output_type": "execute_result"
    }
   ],
   "source": [
    "for y in order_quantity:\n",
    "    table[y]=None\n",
    "    for  x in range (0,len(table)) :\n",
    "        if y>table.iloc[x,0]:\n",
    "            table.loc[x,y]=table.iloc[x,0]*sellprice-y*costprice+(y-table.iloc[x,0])*salvageprice\n",
    "        else:\n",
    "            table.loc[x,y]=y*(sellprice-costprice)\n",
    "table"
   ]
  },
  {
   "cell_type": "code",
   "execution_count": 6,
   "metadata": {},
   "outputs": [
    {
     "data": {
      "text/html": [
       "<style  type=\"text/css\" >\n",
       "#T_2f16b9aa_6016_11eb_a3a1_04ed33508759row2_col0{\n",
       "            background-color:  lightgreen;\n",
       "        }</style><table id=\"T_2f16b9aa_6016_11eb_a3a1_04ed33508759\" ><thead>    <tr>        <th class=\"blank level0\" ></th>        <th class=\"col_heading level0 col0\" >Expected Payoff</th>    </tr></thead><tbody>\n",
       "                <tr>\n",
       "                        <th id=\"T_2f16b9aa_6016_11eb_a3a1_04ed33508759level0_row0\" class=\"row_heading level0 row0\" >12</th>\n",
       "                        <td id=\"T_2f16b9aa_6016_11eb_a3a1_04ed33508759row0_col0\" class=\"data row0 col0\" >360.000000</td>\n",
       "            </tr>\n",
       "            <tr>\n",
       "                        <th id=\"T_2f16b9aa_6016_11eb_a3a1_04ed33508759level0_row1\" class=\"row_heading level0 row1\" >13</th>\n",
       "                        <td id=\"T_2f16b9aa_6016_11eb_a3a1_04ed33508759row1_col0\" class=\"data row1 col0\" >384.000000</td>\n",
       "            </tr>\n",
       "            <tr>\n",
       "                        <th id=\"T_2f16b9aa_6016_11eb_a3a1_04ed33508759level0_row2\" class=\"row_heading level0 row2\" >14</th>\n",
       "                        <td id=\"T_2f16b9aa_6016_11eb_a3a1_04ed33508759row2_col0\" class=\"data row2 col0\" >396.000000</td>\n",
       "            </tr>\n",
       "            <tr>\n",
       "                        <th id=\"T_2f16b9aa_6016_11eb_a3a1_04ed33508759level0_row3\" class=\"row_heading level0 row3\" >15</th>\n",
       "                        <td id=\"T_2f16b9aa_6016_11eb_a3a1_04ed33508759row3_col0\" class=\"data row3 col0\" >390.000000</td>\n",
       "            </tr>\n",
       "    </tbody></table>"
      ],
      "text/plain": [
       "<pandas.io.formats.style.Styler at 0x2b548386d30>"
      ]
     },
     "execution_count": 6,
     "metadata": {},
     "output_type": "execute_result"
    }
   ],
   "source": [
    "Expected_payoffs=pd.DataFrame(data=None,index=order_quantity,columns=[\"Expected Payoff\"],dtype=float)\n",
    "for z in order_quantity:\n",
    "    payoff=0\n",
    "    for  x in range (0,len(table)) :\n",
    "        payoff+=table.loc[x,\"Probability\"]*table.loc[x,z]\n",
    "    Expected_payoffs.loc[z,\"Expected Payoff\"]=payoff\n",
    "Expected_payoffs\n",
    "Expected_payoffs.style.highlight_max(color = 'lightgreen')"
   ]
  },
  {
   "cell_type": "code",
   "execution_count": 7,
   "metadata": {},
   "outputs": [
    {
     "name": "stdout",
     "output_type": "stream",
     "text": [
      "   Demand  No. of Days Probability   12   13   14   15\n",
      "0      12           12         0.1  360  330  300  270\n",
      "1      13           24         0.2  360  390  360  330\n",
      "2      14           36         0.3  360  390  420  390\n",
      "3      15           48         0.4  360  390  420  450\n",
      "\n",
      "\n",
      "    Expected Payoff\n",
      "12            360.0\n",
      "13            384.0\n",
      "14            396.0\n",
      "15            390.0\n",
      "\n",
      "The maximum expected profit =  396.0\n",
      "\n",
      "The optimum number of boxes for maximum profit =  14\n"
     ]
    }
   ],
   "source": [
    "print(table)\n",
    "print('\\n')\n",
    "print(Expected_payoffs)\n",
    "column = Expected_payoffs[\"Expected Payoff\"]\n",
    "Max_Expected_Profit=column.max(axis = 0) \n",
    "print('\\nThe maximum expected profit = ',Max_Expected_Profit)\n",
    "Optimum_Boxes = column.idxmax()\n",
    "print('\\nThe optimum number of boxes for maximum profit = ',Optimum_Boxes)"
   ]
  },
  {
   "cell_type": "code",
   "execution_count": 8,
   "metadata": {},
   "outputs": [
    {
     "data": {
      "image/png": "[encoded data removed]",
      "text/plain": [
       "<Figure size 432x288 with 1 Axes>"
      ]
     },
     "metadata": {
      "needs_background": "light"
     },
     "output_type": "display_data"
    }
   ],
   "source": [
    "x=order_quantity\n",
    "y=Expected_payoffs\n",
    "plt.plot(x,y,label = \"Expected Profit\", color='red')\n",
    "plt.xlabel('Order Quantity')  \n",
    "plt.ylabel('Expected Payoff')\n",
    "plt.title('Order Quantity vs Expected Payoff') \n",
    "plt.legend() \n",
    "plt.show() "
   ]
  }
 ],
 "metadata": {
  "kernelspec": {
   "display_name": "Python 3",
   "language": "python",
   "name": "python3"
  },
  "language_info": {
   "codemirror_mode": {
    "name": "ipython",
    "version": 3
   },
   "file_extension": ".py",
   "mimetype": "text/x-python",
   "name": "python",
   "nbconvert_exporter": "python",
   "pygments_lexer": "ipython3",
   "version": "3.8.5"
  }
 },
 "nbformat": 4,
 "nbformat_minor": 4
}
